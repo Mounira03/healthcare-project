{
 "cells": [
  {
   "cell_type": "code",
   "execution_count": 0,
   "metadata": {
    "application/vnd.databricks.v1+cell": {
     "cellMetadata": {
      "byteLimit": 2048000,
      "rowLimit": 10000
     },
     "inputWidgets": {},
     "nuid": "821f9364-037c-45bb-a0c0-feb63ff07a98",
     "showTitle": false,
     "title": ""
    },
    "id": "U-XCuHIF5qBf"
   },
   "outputs": [],
   "source": [
    "import pyspark\n",
    "from pyspark.sql.functions import *\n",
    "from pyspark.sql.types import *"
   ]
  },
  {
   "cell_type": "code",
   "execution_count": 0,
   "metadata": {
    "application/vnd.databricks.v1+cell": {
     "cellMetadata": {
      "byteLimit": 2048000,
      "rowLimit": 10000
     },
     "inputWidgets": {},
     "nuid": "16335b12-cc66-42c7-92fb-dae7e81ca805",
     "showTitle": false,
     "title": ""
    }
   },
   "outputs": [
    {
     "output_type": "execute_result",
     "data": {
      "text/plain": [
       "[SecretScope(name='healthscope')]"
      ]
     },
     "execution_count": 2,
     "metadata": {},
     "output_type": "execute_result"
    }
   ],
   "source": [
    "dbutils.secrets.listScopes()"
   ]
  },
  {
   "cell_type": "code",
   "execution_count": 0,
   "metadata": {
    "application/vnd.databricks.v1+cell": {
     "cellMetadata": {
      "byteLimit": 2048000,
      "rowLimit": 10000
     },
     "inputWidgets": {},
     "nuid": "4d1d67bd-06f5-4911-9d33-145728b87b3f",
     "showTitle": false,
     "title": ""
    }
   },
   "outputs": [
    {
     "output_type": "execute_result",
     "data": {
      "text/plain": [
       "[SecretMetadata(key='healthdata')]"
      ]
     },
     "execution_count": 3,
     "metadata": {},
     "output_type": "execute_result"
    }
   ],
   "source": [
    "dbutils.secrets.list(scope = 'healthscope')"
   ]
  },
  {
   "cell_type": "code",
   "execution_count": 0,
   "metadata": {
    "application/vnd.databricks.v1+cell": {
     "cellMetadata": {
      "byteLimit": 2048000,
      "rowLimit": 10000
     },
     "inputWidgets": {},
     "nuid": "964f27a8-7abe-4da1-a648-46025b620d9e",
     "showTitle": false,
     "title": ""
    }
   },
   "outputs": [],
   "source": [
    "spark.conf.set(\"fs.azure.account.key.healthdata.dfs.core.windows.net\",\n",
    "    dbutils.secrets.get(scope=\"healthscope\", key=\"healthdata\"))"
   ]
  },
  {
   "cell_type": "code",
   "execution_count": 0,
   "metadata": {
    "application/vnd.databricks.v1+cell": {
     "cellMetadata": {
      "byteLimit": 2048000,
      "rowLimit": 10000
     },
     "inputWidgets": {},
     "nuid": "fa98b989-b24f-436e-af61-72b11b4b62ca",
     "showTitle": false,
     "title": ""
    }
   },
   "outputs": [
    {
     "output_type": "execute_result",
     "data": {
      "text/plain": [
       "[FileInfo(path='abfss://rawdata@healthdata.dfs.core.windows.net/Patient_records.csv', name='Patient_records.csv', size=5110, modificationTime=1710596297000),\n",
       " FileInfo(path='abfss://rawdata@healthdata.dfs.core.windows.net/claims.csv', name='claims.csv', size=11438, modificationTime=1710615336000),\n",
       " FileInfo(path='abfss://rawdata@healthdata.dfs.core.windows.net/disease.csv', name='disease.csv', size=1489, modificationTime=1710596297000),\n",
       " FileInfo(path='abfss://rawdata@healthdata.dfs.core.windows.net/group.csv', name='group.csv', size=4390, modificationTime=1710596297000),\n",
       " FileInfo(path='abfss://rawdata@healthdata.dfs.core.windows.net/hospital.csv', name='hospital.csv', size=1328, modificationTime=1710596297000),\n",
       " FileInfo(path='abfss://rawdata@healthdata.dfs.core.windows.net/subgroup.csv', name='subgroup.csv', size=561, modificationTime=1710596297000),\n",
       " FileInfo(path='abfss://rawdata@healthdata.dfs.core.windows.net/subscriber.csv', name='subscriber.csv', size=12061, modificationTime=1710596297000)]"
      ]
     },
     "execution_count": 5,
     "metadata": {},
     "output_type": "execute_result"
    }
   ],
   "source": [
    "dbutils.fs.ls(\"abfss://rawdata@healthdata.dfs.core.windows.net\")"
   ]
  },
  {
   "cell_type": "code",
   "execution_count": 0,
   "metadata": {
    "application/vnd.databricks.v1+cell": {
     "cellMetadata": {
      "byteLimit": 2048000,
      "rowLimit": 10000
     },
     "inputWidgets": {},
     "nuid": "8d50f685-5e20-4a86-9bb8-24865e56ef29",
     "showTitle": false,
     "title": ""
    },
    "id": "P2kjjhw65p3P"
   },
   "outputs": [],
   "source": [
    "subscriber_data = spark.read.csv(\"abfss://rawdata@healthdata.dfs.core.windows.net/subscriber.csv\", header = True, inferSchema = True)"
   ]
  },
  {
   "cell_type": "code",
   "execution_count": 0,
   "metadata": {
    "application/vnd.databricks.v1+cell": {
     "cellMetadata": {
      "byteLimit": 2048000,
      "rowLimit": 10000
     },
     "inputWidgets": {},
     "nuid": "68170ddf-ea2e-42fc-a965-2a51ca33d248",
     "showTitle": false,
     "title": ""
    },
    "colab": {
     "base_uri": "https://localhost:8080/"
    },
    "id": "zMusCDb_5puv",
    "outputId": "46aab2d6-3e17-46a7-a714-0349d7acc30c"
   },
   "outputs": [],
   "source": [
    "#subscriber_data.show(5)"
   ]
  },
  {
   "cell_type": "code",
   "execution_count": 0,
   "metadata": {
    "application/vnd.databricks.v1+cell": {
     "cellMetadata": {
      "byteLimit": 2048000,
      "rowLimit": 10000
     },
     "inputWidgets": {},
     "nuid": "4317b7d7-03bb-4b75-b3e9-75f9c080c742",
     "showTitle": false,
     "title": ""
    },
    "id": "d7M2EyGc5plM"
   },
   "outputs": [],
   "source": [
    "# null values, duplicates"
   ]
  },
  {
   "cell_type": "code",
   "execution_count": 0,
   "metadata": {
    "application/vnd.databricks.v1+cell": {
     "cellMetadata": {
      "byteLimit": 2048000,
      "rowLimit": 10000
     },
     "inputWidgets": {},
     "nuid": "10f1ff0a-942b-4958-89fe-b2b3e06090fc",
     "showTitle": false,
     "title": ""
    },
    "colab": {
     "base_uri": "https://localhost:8080/"
    },
    "id": "Ie8MHevY5pXV",
    "outputId": "33563b06-b66a-4114-a734-091d034d1159"
   },
   "outputs": [],
   "source": [
    "#subscriber_data.select([count(when(isnan(c) | col(c).isNull(),c)).alias(c) for c in subscriber_data.columns]).show()"
   ]
  },
  {
   "cell_type": "code",
   "execution_count": 0,
   "metadata": {
    "application/vnd.databricks.v1+cell": {
     "cellMetadata": {
      "byteLimit": 2048000,
      "rowLimit": 10000
     },
     "inputWidgets": {},
     "nuid": "0c5d7486-0ada-45a5-9fd3-09765f0dd846",
     "showTitle": false,
     "title": ""
    },
    "colab": {
     "base_uri": "https://localhost:8080/"
    },
    "id": "y4cT6WCiHjLQ",
    "outputId": "d0f3b618-0869-4405-9b53-c6461a8b2bdc"
   },
   "outputs": [],
   "source": [
    "#subscriber_data.groupBy([\"sub_id\",\"first_name\",\"last_name\",\"Street\",\"Birth_date\",\"Gender\",\"Phone\",\"Country\",\"City\",\"Zip Code\",\"Subgrp_id\",\"Elig_ind\",\"eff_date\",\"term_date\"]).count().where(\"count > 1\").show()"
   ]
  },
  {
   "cell_type": "code",
   "execution_count": 0,
   "metadata": {
    "application/vnd.databricks.v1+cell": {
     "cellMetadata": {
      "byteLimit": 2048000,
      "rowLimit": 10000
     },
     "inputWidgets": {},
     "nuid": "7c0f4034-613d-497e-a9b4-bdfd670dfdf6",
     "showTitle": false,
     "title": ""
    },
    "id": "xhgdm93NSpuZ"
   },
   "outputs": [],
   "source": [
    "subscriber_data = subscriber_data.drop(\"Phone\")"
   ]
  },
  {
   "cell_type": "code",
   "execution_count": 0,
   "metadata": {
    "application/vnd.databricks.v1+cell": {
     "cellMetadata": {
      "byteLimit": 2048000,
      "rowLimit": 10000
     },
     "inputWidgets": {},
     "nuid": "98927982-be0e-42bc-8971-4e7e5c14fa4a",
     "showTitle": false,
     "title": ""
    },
    "id": "s9dXCrPKHq6h"
   },
   "outputs": [],
   "source": [
    "subscriber_data = subscriber_data.dropDuplicates()"
   ]
  },
  {
   "cell_type": "code",
   "execution_count": 0,
   "metadata": {
    "application/vnd.databricks.v1+cell": {
     "cellMetadata": {
      "byteLimit": 2048000,
      "rowLimit": 10000
     },
     "inputWidgets": {},
     "nuid": "832ee8ab-c1d6-4785-a14e-d232901c427e",
     "showTitle": false,
     "title": ""
    },
    "id": "48-WFA_TSwaI"
   },
   "outputs": [],
   "source": [
    "subscriber_data = subscriber_data.fillna({\"Elig_ind\":\"N\", \"first_name\":\"Guest/NA\"})"
   ]
  },
  {
   "cell_type": "code",
   "execution_count": 0,
   "metadata": {
    "application/vnd.databricks.v1+cell": {
     "cellMetadata": {
      "byteLimit": 2048000,
      "rowLimit": 10000
     },
     "inputWidgets": {},
     "nuid": "4e9d6f58-de10-4224-b161-50224e7ee7e6",
     "showTitle": false,
     "title": ""
    },
    "colab": {
     "base_uri": "https://localhost:8080/"
    },
    "id": "1ljXt8pMTdMg",
    "outputId": "2819e4d4-b23e-4020-80f8-8285716bc782"
   },
   "outputs": [],
   "source": [
    "#find out why Subgrp_id is null\n",
    "#subscriber_data.select(\"*\").where(col(\"Subgrp_id\").isNull()).show()"
   ]
  },
  {
   "cell_type": "code",
   "execution_count": 0,
   "metadata": {
    "application/vnd.databricks.v1+cell": {
     "cellMetadata": {
      "byteLimit": 2048000,
      "rowLimit": 10000
     },
     "inputWidgets": {},
     "nuid": "f7a7bdd8-7ee9-4da8-b36e-e861b9ec1574",
     "showTitle": false,
     "title": ""
    },
    "id": "NzefD2WQadnT"
   },
   "outputs": [],
   "source": [
    "#fill Subgrp_id with hardcoded value  subgroupid value from an other table"
   ]
  },
  {
   "cell_type": "code",
   "execution_count": 0,
   "metadata": {
    "application/vnd.databricks.v1+cell": {
     "cellMetadata": {
      "byteLimit": 2048000,
      "rowLimit": 10000
     },
     "inputWidgets": {},
     "nuid": "1c4bb700-ae09-436f-96b9-11cc63c3022a",
     "showTitle": false,
     "title": ""
    },
    "id": "8GHCpOVQbNz0"
   },
   "outputs": [],
   "source": [
    "subscriber_data = subscriber_data.withColumn(\"subgrp_id\", when(col(\"sub_id\")==\"SUBID10022\", \"S110\").otherwise(col(\"subgrp_id\")))\n",
    "subscriber_data = subscriber_data.withColumn(\"subgrp_id\", when(col(\"sub_id\")==\"SUBID10049\", \"S107\").otherwise(col(\"subgrp_id\")))"
   ]
  },
  {
   "cell_type": "code",
   "execution_count": 0,
   "metadata": {
    "application/vnd.databricks.v1+cell": {
     "cellMetadata": {
      "byteLimit": 2048000,
      "rowLimit": 10000
     },
     "inputWidgets": {},
     "nuid": "76b4ad05-5293-4d6c-afc2-4e8f6b41025f",
     "showTitle": false,
     "title": ""
    },
    "id": "wNrcLwmIbM9F"
   },
   "outputs": [],
   "source": []
  },
  {
   "cell_type": "code",
   "execution_count": 0,
   "metadata": {
    "application/vnd.databricks.v1+cell": {
     "cellMetadata": {
      "byteLimit": 2048000,
      "rowLimit": 10000
     },
     "inputWidgets": {},
     "nuid": "edf64b71-33c5-4e3d-a6ae-2f1fa7beca6d",
     "showTitle": false,
     "title": ""
    },
    "id": "3YY3y6uCUijD"
   },
   "outputs": [],
   "source": [
    "subscriber_data = subscriber_data.withColumn(\"subcriber_age\", (months_between(current_date(), col(\"Birth_date\"))/12).cast(\"int\"))"
   ]
  },
  {
   "cell_type": "code",
   "execution_count": 0,
   "metadata": {
    "application/vnd.databricks.v1+cell": {
     "cellMetadata": {
      "byteLimit": 2048000,
      "rowLimit": 10000
     },
     "inputWidgets": {},
     "nuid": "49c1d689-0ea7-4128-84a5-9e2b9234555f",
     "showTitle": false,
     "title": ""
    },
    "colab": {
     "base_uri": "https://localhost:8080/"
    },
    "id": "IPqaWVmoVXhq",
    "outputId": "940adf19-6a10-42af-fd2d-b9df07a0ed66"
   },
   "outputs": [
    {
     "output_type": "stream",
     "name": "stdout",
     "output_type": "stream",
     "text": [
      "+----------+------------+---------+--------------+----------+------+-------+----------------+--------+---------+--------+----------+----------+-------------+\n|sub_id    |first_name  |last_name|Street        |Birth_date|Gender|Country|City            |Zip Code|subgrp_id|Elig_ind|eff_date  |term_date |subcriber_age|\n+----------+------------+---------+--------------+----------+------+-------+----------------+--------+---------+--------+----------+----------+-------------+\n|SUBID10093|Chandavarman|Singh    |Sarkar Circle |1997-05-10|Others|India  |Navi Mumbai     |83240   |S110     |N       |2017-05-10|2022-08-27|26           |\n|SUBID10068|Guest/NA    |Mishra   |Bath Nagar    |1927-02-26|Female|India  |Ambarnath       |766224  |S110     |N       |1947-02-26|1948-03-30|97           |\n|SUBID1038 |Guest/NA    |Thakur   |Rastogi Street|1955-04-07|Female|India  |Vijayawada      |438940  |S104     |N       |1975-04-07|1982-01-25|68           |\n|SUBID10095|Ekaaksh     |Rai      |Bansal Ganj   |1933-12-02|Others|India  |Pimpri-Chinchwad|158186  |S107     |N       |1953-12-02|1960-07-29|90           |\n|SUBID10002|Ujjawal     |Devi     |Mammen Zila   |1980-04-16|Male  |India  |Berhampur       |914455  |S106     |N       |2000-04-16|2008-05-04|43           |\n+----------+------------+---------+--------------+----------+------+-------+----------------+--------+---------+--------+----------+----------+-------------+\nonly showing top 5 rows\n\n"
     ]
    }
   ],
   "source": [
    "subscriber_data.show(5, False)"
   ]
  },
  {
   "cell_type": "code",
   "execution_count": 0,
   "metadata": {
    "application/vnd.databricks.v1+cell": {
     "cellMetadata": {
      "byteLimit": 2048000,
      "rowLimit": 10000
     },
     "inputWidgets": {},
     "nuid": "6a27dadb-9e2f-4ff5-8742-354dd6c7e68f",
     "showTitle": false,
     "title": ""
    },
    "id": "3ZNESXN8bQ2n"
   },
   "outputs": [],
   "source": [
    "# age is showing as null need to check in databricks if this issue is fixed or not bith_date column is not coming as date type."
   ]
  },
  {
   "cell_type": "code",
   "execution_count": 0,
   "metadata": {
    "application/vnd.databricks.v1+cell": {
     "cellMetadata": {
      "byteLimit": 2048000,
      "rowLimit": 10000
     },
     "inputWidgets": {},
     "nuid": "ccdecaf1-9486-44ef-98c0-e3e005797233",
     "showTitle": false,
     "title": ""
    },
    "id": "gW4ldIo8TKWL"
   },
   "outputs": [],
   "source": [
    "#writing clean dataframe into stagging\n",
    "#boilerplate code(standard code for ceratin operation)\n",
    "stagging_path = \"abfss://stagedata@healthdata.dfs.core.windows.net\"\n",
    "subscriber_data.coalesce(1).write.mode(\"append\").option(\"header\",\"true\").format(\"com.databricks.spark.csv\").save(stagging_path)\n",
    "files = dbutils.fs.ls(stagging_path)\n",
    "output_file = [x for x in files if x.name.startswith(\"part-\")] #to read only part files\n",
    "dbutils.fs.mv(output_file[0].path,\"%s/subscriberstagging.csv\" % stagging_path)\n",
    "files_to_delete = [file.path for file in files if file.name.startswith(\"_\")]\n",
    "for file_path in files_to_delete:\n",
    "                  dbutils.fs.rm(file_path, True)"
   ]
  }
 ],
 "metadata": {
  "application/vnd.databricks.v1+notebook": {
   "dashboards": [],
   "language": "python",
   "notebookMetadata": {
    "pythonIndentUnit": 4
   },
   "notebookName": "subscriber_transformation",
   "widgets": {}
  },
  "colab": {
   "provenance": []
  },
  "kernelspec": {
   "display_name": "Python 3",
   "name": "python3"
  },
  "language_info": {
   "name": "python"
  }
 },
 "nbformat": 4,
 "nbformat_minor": 0
}
