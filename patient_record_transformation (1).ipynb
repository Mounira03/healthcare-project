{
 "cells": [
  {
   "cell_type": "code",
   "execution_count": 0,
   "metadata": {
    "application/vnd.databricks.v1+cell": {
     "cellMetadata": {
      "byteLimit": 2048000,
      "rowLimit": 10000
     },
     "inputWidgets": {},
     "nuid": "78e3ff98-7f57-4d7b-bcf0-0021a8f820a1",
     "showTitle": false,
     "title": ""
    },
    "id": "01eeWF8k1H-o"
   },
   "outputs": [],
   "source": [
    "import pyspark\n",
    "from pyspark.sql.functions import *\n",
    "from pyspark.sql.types import *"
   ]
  },
  {
   "cell_type": "code",
   "execution_count": 0,
   "metadata": {
    "application/vnd.databricks.v1+cell": {
     "cellMetadata": {
      "byteLimit": 2048000,
      "rowLimit": 10000
     },
     "inputWidgets": {},
     "nuid": "0273ca5c-b43a-4186-9e5f-2f8363ea5c74",
     "showTitle": false,
     "title": ""
    }
   },
   "outputs": [
    {
     "output_type": "execute_result",
     "data": {
      "text/plain": [
       "[SecretScope(name='healthscope')]"
      ]
     },
     "execution_count": 2,
     "metadata": {},
     "output_type": "execute_result"
    }
   ],
   "source": [
    "dbutils.secrets.listScopes()"
   ]
  },
  {
   "cell_type": "code",
   "execution_count": 0,
   "metadata": {
    "application/vnd.databricks.v1+cell": {
     "cellMetadata": {
      "byteLimit": 2048000,
      "rowLimit": 10000
     },
     "inputWidgets": {},
     "nuid": "20d95448-5754-492d-953b-4afa6028c76f",
     "showTitle": false,
     "title": ""
    }
   },
   "outputs": [
    {
     "output_type": "execute_result",
     "data": {
      "text/plain": [
       "[SecretMetadata(key='healthdata')]"
      ]
     },
     "execution_count": 3,
     "metadata": {},
     "output_type": "execute_result"
    }
   ],
   "source": [
    "dbutils.secrets.list(scope = 'healthscope')"
   ]
  },
  {
   "cell_type": "code",
   "execution_count": 0,
   "metadata": {
    "application/vnd.databricks.v1+cell": {
     "cellMetadata": {
      "byteLimit": 2048000,
      "rowLimit": 10000
     },
     "inputWidgets": {},
     "nuid": "f88e672e-f0d3-4b6f-9ca5-e4c51626ed0c",
     "showTitle": false,
     "title": ""
    }
   },
   "outputs": [],
   "source": [
    "spark.conf.set(\"fs.azure.account.key.healthdata.dfs.core.windows.net\",\n",
    "    dbutils.secrets.get(scope=\"healthscope\", key=\"healthdata\"))"
   ]
  },
  {
   "cell_type": "code",
   "execution_count": 0,
   "metadata": {
    "application/vnd.databricks.v1+cell": {
     "cellMetadata": {
      "byteLimit": 2048000,
      "rowLimit": 10000
     },
     "inputWidgets": {},
     "nuid": "d9e74cbc-f1ad-4a77-a6bb-cc0deaf50930",
     "showTitle": false,
     "title": ""
    }
   },
   "outputs": [
    {
     "output_type": "execute_result",
     "data": {
      "text/plain": [
       "[FileInfo(path='abfss://rawdata@healthdata.dfs.core.windows.net/Patient_records.csv', name='Patient_records.csv', size=5110, modificationTime=1710596297000),\n",
       " FileInfo(path='abfss://rawdata@healthdata.dfs.core.windows.net/claims.csv', name='claims.csv', size=11438, modificationTime=1710615336000),\n",
       " FileInfo(path='abfss://rawdata@healthdata.dfs.core.windows.net/disease.csv', name='disease.csv', size=1489, modificationTime=1710596297000),\n",
       " FileInfo(path='abfss://rawdata@healthdata.dfs.core.windows.net/group.csv', name='group.csv', size=4390, modificationTime=1710596297000),\n",
       " FileInfo(path='abfss://rawdata@healthdata.dfs.core.windows.net/hospital.csv', name='hospital.csv', size=1328, modificationTime=1710596297000),\n",
       " FileInfo(path='abfss://rawdata@healthdata.dfs.core.windows.net/subgroup.csv', name='subgroup.csv', size=561, modificationTime=1710596297000),\n",
       " FileInfo(path='abfss://rawdata@healthdata.dfs.core.windows.net/subscriber.csv', name='subscriber.csv', size=12061, modificationTime=1710596297000)]"
      ]
     },
     "execution_count": 5,
     "metadata": {},
     "output_type": "execute_result"
    }
   ],
   "source": [
    "dbutils.fs.ls(\"abfss://rawdata@healthdata.dfs.core.windows.net\")"
   ]
  },
  {
   "cell_type": "code",
   "execution_count": 0,
   "metadata": {
    "application/vnd.databricks.v1+cell": {
     "cellMetadata": {
      "byteLimit": 2048000,
      "rowLimit": 10000
     },
     "inputWidgets": {},
     "nuid": "a68cf9af-88da-4309-86d8-fff6316a1f0f",
     "showTitle": false,
     "title": ""
    },
    "id": "FvX1uhyM1Lvn"
   },
   "outputs": [],
   "source": [
    "patient_recor_data = spark.read.csv(\"abfss://rawdata@healthdata.dfs.core.windows.net/Patient_records.csv\", header = True, escape = '\"')"
   ]
  },
  {
   "cell_type": "code",
   "execution_count": 0,
   "metadata": {
    "application/vnd.databricks.v1+cell": {
     "cellMetadata": {
      "byteLimit": 2048000,
      "rowLimit": 10000
     },
     "inputWidgets": {},
     "nuid": "48f9b758-c4f7-41e2-9b30-fe9b95b730dd",
     "showTitle": false,
     "title": ""
    },
    "colab": {
     "base_uri": "https://localhost:8080/"
    },
    "id": "ttG2llr41O_s",
    "outputId": "a82c9190-6746-4d58-a29e-6cc08e180913"
   },
   "outputs": [],
   "source": [
    "#patient_recor_data.show(5)"
   ]
  },
  {
   "cell_type": "code",
   "execution_count": 0,
   "metadata": {
    "application/vnd.databricks.v1+cell": {
     "cellMetadata": {
      "byteLimit": 2048000,
      "rowLimit": 10000
     },
     "inputWidgets": {},
     "nuid": "6ffb57eb-d1b4-4d57-bed9-893327ad9825",
     "showTitle": false,
     "title": ""
    },
    "id": "yAXwkh039QAv"
   },
   "outputs": [],
   "source": [
    "#patient name null value, also check for duplicates"
   ]
  },
  {
   "cell_type": "code",
   "execution_count": 0,
   "metadata": {
    "application/vnd.databricks.v1+cell": {
     "cellMetadata": {
      "byteLimit": 2048000,
      "rowLimit": 10000
     },
     "inputWidgets": {},
     "nuid": "827b7c2e-fb09-4b6e-b09b-c957bb142b1d",
     "showTitle": false,
     "title": ""
    },
    "colab": {
     "base_uri": "https://localhost:8080/"
    },
    "id": "BWtMwk79Swo5",
    "outputId": "1b1077db-2c5b-481e-f7d9-6240a702bce0"
   },
   "outputs": [],
   "source": [
    "#patient_recor_data.select([count(when(isnan(c) | col(c).isNull(),c)).alias(c) for c in patient_recor_data.columns]).show()"
   ]
  },
  {
   "cell_type": "code",
   "execution_count": 0,
   "metadata": {
    "application/vnd.databricks.v1+cell": {
     "cellMetadata": {
      "byteLimit": 2048000,
      "rowLimit": 10000
     },
     "inputWidgets": {},
     "nuid": "8522f5f7-cebb-4bbc-a69b-4d91a260c76e",
     "showTitle": false,
     "title": ""
    },
    "colab": {
     "base_uri": "https://localhost:8080/"
    },
    "id": "HPEUa_tFSx3j",
    "outputId": "f61aec44-3a20-464d-d83c-2faa901069d1"
   },
   "outputs": [],
   "source": [
    "#patient_recor_data.groupBy([\"Patient_id\",\"Patient_name\",\"patient_gender\",\"patient_birth_date\",\"patient_phone\", \"disease_name\",\"city\",\"hospital_id\"]).count().where(\"count > 1\").show()"
   ]
  },
  {
   "cell_type": "code",
   "execution_count": 0,
   "metadata": {
    "application/vnd.databricks.v1+cell": {
     "cellMetadata": {
      "byteLimit": 2048000,
      "rowLimit": 10000
     },
     "inputWidgets": {},
     "nuid": "b03001d2-0bb6-462c-bb65-353e88dabea7",
     "showTitle": false,
     "title": ""
    },
    "id": "h0WOgGNFS1Cu"
   },
   "outputs": [],
   "source": [
    "patient_recor_data = patient_recor_data.dropDuplicates()"
   ]
  },
  {
   "cell_type": "code",
   "execution_count": 0,
   "metadata": {
    "application/vnd.databricks.v1+cell": {
     "cellMetadata": {
      "byteLimit": 2048000,
      "rowLimit": 10000
     },
     "inputWidgets": {},
     "nuid": "c9da148e-0720-4bdf-af50-274e97bdf0bc",
     "showTitle": false,
     "title": ""
    },
    "id": "qibo_fPxHtmm"
   },
   "outputs": [],
   "source": [
    "# fill the missing value\n",
    "patient_recor_data = patient_recor_data.fillna({\"Patient_name\":\"Guest/NA\",\"patient_phone\": \"NA\"})\n"
   ]
  },
  {
   "cell_type": "code",
   "execution_count": 0,
   "metadata": {
    "application/vnd.databricks.v1+cell": {
     "cellMetadata": {
      "byteLimit": 2048000,
      "rowLimit": 10000
     },
     "inputWidgets": {},
     "nuid": "2aced42c-fac2-4143-afd1-6316e3168676",
     "showTitle": false,
     "title": ""
    },
    "id": "I6tbRVS2S5Bd"
   },
   "outputs": [],
   "source": [
    "#writing clean dataframe into stagging\n",
    "#boilerplate code(standard code for ceratin operation)\n",
    "stagging_path = \"abfss://stagedata@healthdata.dfs.core.windows.net\"\n",
    "patient_recor_data.coalesce(1).write.mode(\"append\").option(\"header\",\"true\").format(\"com.databricks.spark.csv\").save(stagging_path)\n",
    "files = dbutils.fs.ls(stagging_path)\n",
    "output_file = [x for x in files if x.name.startswith(\"part-\")] #to read only part files\n",
    "dbutils.fs.mv(output_file[0].path,\"%s/patiend_recordstagging.csv\" % stagging_path)\n",
    "files_to_delete = [file.path for file in files if file.name.startswith(\"_\")]\n",
    "for file_path in files_to_delete:\n",
    "                  dbutils.fs.rm(file_path, True)"
   ]
  }
 ],
 "metadata": {
  "application/vnd.databricks.v1+notebook": {
   "dashboards": [],
   "language": "python",
   "notebookMetadata": {
    "pythonIndentUnit": 4
   },
   "notebookName": "patient_record_transformation",
   "widgets": {}
  },
  "colab": {
   "provenance": []
  },
  "kernelspec": {
   "display_name": "Python 3",
   "name": "python3"
  },
  "language_info": {
   "name": "python"
  }
 },
 "nbformat": 4,
 "nbformat_minor": 0
}
