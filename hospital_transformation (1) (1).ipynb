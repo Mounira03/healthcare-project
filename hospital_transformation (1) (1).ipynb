{
 "cells": [
  {
   "cell_type": "code",
   "execution_count": 0,
   "metadata": {
    "application/vnd.databricks.v1+cell": {
     "cellMetadata": {
      "byteLimit": 2048000,
      "rowLimit": 10000
     },
     "inputWidgets": {},
     "nuid": "0d553600-b1eb-4dc8-a6e6-72b7ba2285a4",
     "showTitle": false,
     "title": ""
    },
    "id": "01eeWF8k1H-o"
   },
   "outputs": [],
   "source": [
    "import pyspark\n",
    "from pyspark.sql.functions import *\n",
    "from pyspark.sql.types import *"
   ]
  },
  {
   "cell_type": "code",
   "execution_count": 0,
   "metadata": {
    "application/vnd.databricks.v1+cell": {
     "cellMetadata": {
      "byteLimit": 2048000,
      "rowLimit": 10000
     },
     "inputWidgets": {},
     "nuid": "0909795a-ed09-473b-86bb-c04218bfc7d3",
     "showTitle": false,
     "title": ""
    }
   },
   "outputs": [
    {
     "output_type": "execute_result",
     "data": {
      "text/plain": [
       "[SecretScope(name='healthscope')]"
      ]
     },
     "execution_count": 2,
     "metadata": {},
     "output_type": "execute_result"
    }
   ],
   "source": [
    "dbutils.secrets.listScopes()"
   ]
  },
  {
   "cell_type": "code",
   "execution_count": 0,
   "metadata": {
    "application/vnd.databricks.v1+cell": {
     "cellMetadata": {
      "byteLimit": 2048000,
      "rowLimit": 10000
     },
     "inputWidgets": {},
     "nuid": "4e34fb19-e286-45a6-92e6-bf06569632df",
     "showTitle": false,
     "title": ""
    }
   },
   "outputs": [
    {
     "output_type": "execute_result",
     "data": {
      "text/plain": [
       "[SecretMetadata(key='healthdata')]"
      ]
     },
     "execution_count": 3,
     "metadata": {},
     "output_type": "execute_result"
    }
   ],
   "source": [
    "dbutils.secrets.list(scope = 'healthscope')"
   ]
  },
  {
   "cell_type": "code",
   "execution_count": 0,
   "metadata": {
    "application/vnd.databricks.v1+cell": {
     "cellMetadata": {
      "byteLimit": 2048000,
      "rowLimit": 10000
     },
     "inputWidgets": {},
     "nuid": "efd9f9d7-a95a-4273-9bca-783a06171b1f",
     "showTitle": false,
     "title": ""
    }
   },
   "outputs": [],
   "source": [
    "spark.conf.set(\"fs.azure.account.key.healthdata.dfs.core.windows.net\",\n",
    "    dbutils.secrets.get(scope=\"healthscope\", key=\"healthdata\"))"
   ]
  },
  {
   "cell_type": "code",
   "execution_count": 0,
   "metadata": {
    "application/vnd.databricks.v1+cell": {
     "cellMetadata": {
      "byteLimit": 2048000,
      "rowLimit": 10000
     },
     "inputWidgets": {},
     "nuid": "1173537b-a708-491b-9a63-0b986d22df62",
     "showTitle": false,
     "title": ""
    }
   },
   "outputs": [
    {
     "output_type": "execute_result",
     "data": {
      "text/plain": [
       "[FileInfo(path='abfss://rawdata@healthdata.dfs.core.windows.net/Patient_records.csv', name='Patient_records.csv', size=5110, modificationTime=1710596297000),\n",
       " FileInfo(path='abfss://rawdata@healthdata.dfs.core.windows.net/claims.csv', name='claims.csv', size=11438, modificationTime=1710615336000),\n",
       " FileInfo(path='abfss://rawdata@healthdata.dfs.core.windows.net/disease.csv', name='disease.csv', size=1489, modificationTime=1710596297000),\n",
       " FileInfo(path='abfss://rawdata@healthdata.dfs.core.windows.net/group.csv', name='group.csv', size=4390, modificationTime=1710596297000),\n",
       " FileInfo(path='abfss://rawdata@healthdata.dfs.core.windows.net/hospital.csv', name='hospital.csv', size=1328, modificationTime=1710596297000),\n",
       " FileInfo(path='abfss://rawdata@healthdata.dfs.core.windows.net/subgroup.csv', name='subgroup.csv', size=561, modificationTime=1710596297000),\n",
       " FileInfo(path='abfss://rawdata@healthdata.dfs.core.windows.net/subscriber.csv', name='subscriber.csv', size=12061, modificationTime=1710596297000)]"
      ]
     },
     "execution_count": 5,
     "metadata": {},
     "output_type": "execute_result"
    }
   ],
   "source": [
    "dbutils.fs.ls(\"abfss://rawdata@healthdata.dfs.core.windows.net\")"
   ]
  },
  {
   "cell_type": "code",
   "execution_count": 0,
   "metadata": {
    "application/vnd.databricks.v1+cell": {
     "cellMetadata": {
      "byteLimit": 2048000,
      "rowLimit": 10000
     },
     "inputWidgets": {},
     "nuid": "efc52f89-f6cb-4167-8a95-949f3007123b",
     "showTitle": false,
     "title": ""
    },
    "id": "FvX1uhyM1Lvn"
   },
   "outputs": [],
   "source": [
    "hospital_data = spark.read.csv(\"abfss://rawdata@healthdata.dfs.core.windows.net/hospital.csv\", header = True, inferSchema = True, escape = '\"')"
   ]
  },
  {
   "cell_type": "code",
   "execution_count": 0,
   "metadata": {
    "application/vnd.databricks.v1+cell": {
     "cellMetadata": {
      "byteLimit": 2048000,
      "rowLimit": 10000
     },
     "inputWidgets": {},
     "nuid": "7485d7fe-de80-42f3-8594-3ed8c52afdfb",
     "showTitle": false,
     "title": ""
    },
    "colab": {
     "base_uri": "https://localhost:8080/"
    },
    "id": "ttG2llr41O_s",
    "outputId": "c284894c-2f56-4e74-8283-dd1ff96baa30"
   },
   "outputs": [],
   "source": [
    "#hospital_data.show(5)"
   ]
  },
  {
   "cell_type": "code",
   "execution_count": 0,
   "metadata": {
    "application/vnd.databricks.v1+cell": {
     "cellMetadata": {
      "byteLimit": 2048000,
      "rowLimit": 10000
     },
     "inputWidgets": {},
     "nuid": "01ad8800-8121-4f71-8d56-888255f35761",
     "showTitle": false,
     "title": ""
    },
    "id": "PZiDz4N07e1U"
   },
   "outputs": [],
   "source": [
    "# clean state and city, duplicates, null values"
   ]
  },
  {
   "cell_type": "code",
   "execution_count": 0,
   "metadata": {
    "application/vnd.databricks.v1+cell": {
     "cellMetadata": {
      "byteLimit": 2048000,
      "rowLimit": 10000
     },
     "inputWidgets": {},
     "nuid": "6c658d15-68b5-45db-b8bd-efcc4bedab36",
     "showTitle": false,
     "title": ""
    },
    "colab": {
     "base_uri": "https://localhost:8080/"
    },
    "id": "eL3aGIer-NDb",
    "outputId": "64f6adeb-f49a-44a6-da1a-70d865142a1f"
   },
   "outputs": [],
   "source": [
    "#hospital_data.select([count(when(isnan(c) | col(c).isNull(),c)).alias(c) for c in hospital_data.columns]).show()"
   ]
  },
  {
   "cell_type": "code",
   "execution_count": 0,
   "metadata": {
    "application/vnd.databricks.v1+cell": {
     "cellMetadata": {
      "byteLimit": 2048000,
      "rowLimit": 10000
     },
     "inputWidgets": {},
     "nuid": "340c5c31-3fec-4ad5-8d81-400aaa95693a",
     "showTitle": false,
     "title": ""
    },
    "colab": {
     "base_uri": "https://localhost:8080/"
    },
    "id": "F2v7yV2cAH4x",
    "outputId": "4f31103d-0ae2-4060-855b-acffcda36517"
   },
   "outputs": [],
   "source": [
    "#hospital_data.groupBy([\"Hospital_id\",\"Hospital_name\",\"city\",\"city\",\"state\",\"country\"]).count().where(\"count > 1\").show()"
   ]
  },
  {
   "cell_type": "code",
   "execution_count": 0,
   "metadata": {
    "application/vnd.databricks.v1+cell": {
     "cellMetadata": {
      "byteLimit": 2048000,
      "rowLimit": 10000
     },
     "inputWidgets": {},
     "nuid": "f03b9ffb-a13a-48e2-a961-c8115bdb93c7",
     "showTitle": false,
     "title": ""
    },
    "id": "Ni0IaMaRCVBK"
   },
   "outputs": [],
   "source": [
    "hospital_data = hospital_data.dropDuplicates()"
   ]
  },
  {
   "cell_type": "code",
   "execution_count": 0,
   "metadata": {
    "application/vnd.databricks.v1+cell": {
     "cellMetadata": {
      "byteLimit": 2048000,
      "rowLimit": 10000
     },
     "inputWidgets": {},
     "nuid": "b5b2cd3a-f09b-4fba-9aad-d6d595218b75",
     "showTitle": false,
     "title": ""
    },
    "id": "YSER_EsrAlrg"
   },
   "outputs": [],
   "source": [
    "#replace NaN with none\n",
    "hospital_data = hospital_data.replace(\"NaN\", None)"
   ]
  },
  {
   "cell_type": "code",
   "execution_count": 0,
   "metadata": {
    "application/vnd.databricks.v1+cell": {
     "cellMetadata": {
      "byteLimit": 2048000,
      "rowLimit": 10000
     },
     "inputWidgets": {},
     "nuid": "2dbe3f34-e717-4e7f-82ce-443f23ed0ed0",
     "showTitle": false,
     "title": ""
    },
    "id": "5A7DXI_hBUYP"
   },
   "outputs": [],
   "source": [
    "hospital_data = hospital_data.fillna({\"state\":\"UT\"})"
   ]
  },
  {
   "cell_type": "code",
   "execution_count": 0,
   "metadata": {
    "application/vnd.databricks.v1+cell": {
     "cellMetadata": {
      "byteLimit": 2048000,
      "rowLimit": 10000
     },
     "inputWidgets": {},
     "nuid": "8f1bfead-686f-4087-bd35-9ee22887135d",
     "showTitle": false,
     "title": ""
    },
    "id": "H2xiOUd3AlhA"
   },
   "outputs": [],
   "source": [
    "#replace new delhi with Delhi\n",
    "hospital_data = hospital_data.replace(\"New Delhi\", \"Delhi\")"
   ]
  },
  {
   "cell_type": "code",
   "execution_count": 0,
   "metadata": {
    "application/vnd.databricks.v1+cell": {
     "cellMetadata": {
      "byteLimit": 2048000,
      "rowLimit": 10000
     },
     "inputWidgets": {},
     "nuid": "68e3462f-cb46-4c7f-a21c-0b35a04e1839",
     "showTitle": false,
     "title": ""
    },
    "id": "_9FgmGQvTHsE"
   },
   "outputs": [],
   "source": [
    "#writing clean dataframe into stagging\n",
    "#boilerplate code(standard code for ceratin operation)\n",
    "stagging_path = \"abfss://stagedata@healthdata.dfs.core.windows.net\"\n",
    "hospital_data.coalesce(1).write.mode(\"append\").option(\"header\",\"true\").format(\"com.databricks.spark.csv\").save(stagging_path)\n",
    "files = dbutils.fs.ls(stagging_path)\n",
    "output_file = [x for x in files if x.name.startswith(\"part-\")] #to read only part files\n",
    "dbutils.fs.mv(output_file[0].path,\"%s/hospitalstagging.csv\" % stagging_path)\n",
    "files_to_delete = [file.path for file in files if file.name.startswith(\"_\")]\n",
    "for file_path in files_to_delete:\n",
    "                  dbutils.fs.rm(file_path, True)"
   ]
  }
 ],
 "metadata": {
  "application/vnd.databricks.v1+notebook": {
   "dashboards": [],
   "language": "python",
   "notebookMetadata": {
    "pythonIndentUnit": 4
   },
   "notebookName": "hospital_transformation (1)",
   "widgets": {}
  },
  "colab": {
   "provenance": []
  },
  "kernelspec": {
   "display_name": "Python 3",
   "name": "python3"
  },
  "language_info": {
   "name": "python"
  }
 },
 "nbformat": 4,
 "nbformat_minor": 0
}
