{
 "cells": [
  {
   "cell_type": "code",
   "execution_count": 0,
   "metadata": {
    "application/vnd.databricks.v1+cell": {
     "cellMetadata": {
      "byteLimit": 2048000,
      "rowLimit": 10000
     },
     "inputWidgets": {},
     "nuid": "ce97aff6-02bb-45aa-acb0-479ccbd18090",
     "showTitle": false,
     "title": ""
    },
    "id": "U-XCuHIF5qBf"
   },
   "outputs": [],
   "source": [
    "import pyspark\n",
    "from pyspark.sql.functions import *\n",
    "from pyspark.sql.types import *"
   ]
  },
  {
   "cell_type": "code",
   "execution_count": 0,
   "metadata": {
    "application/vnd.databricks.v1+cell": {
     "cellMetadata": {
      "byteLimit": 2048000,
      "rowLimit": 10000
     },
     "inputWidgets": {},
     "nuid": "3901daf5-3fd2-47b6-bf5a-731f7243a63a",
     "showTitle": false,
     "title": ""
    }
   },
   "outputs": [
    {
     "output_type": "execute_result",
     "data": {
      "text/plain": [
       "[SecretScope(name='healthscope')]"
      ]
     },
     "execution_count": 2,
     "metadata": {},
     "output_type": "execute_result"
    }
   ],
   "source": [
    "dbutils.secrets.listScopes()"
   ]
  },
  {
   "cell_type": "code",
   "execution_count": 0,
   "metadata": {
    "application/vnd.databricks.v1+cell": {
     "cellMetadata": {
      "byteLimit": 2048000,
      "rowLimit": 10000
     },
     "inputWidgets": {},
     "nuid": "6eba45f4-bdca-4680-a856-4fc6caf57753",
     "showTitle": false,
     "title": ""
    }
   },
   "outputs": [
    {
     "output_type": "execute_result",
     "data": {
      "text/plain": [
       "[SecretMetadata(key='healthdata')]"
      ]
     },
     "execution_count": 3,
     "metadata": {},
     "output_type": "execute_result"
    }
   ],
   "source": [
    "dbutils.secrets.list(scope = 'healthscope')"
   ]
  },
  {
   "cell_type": "code",
   "execution_count": 0,
   "metadata": {
    "application/vnd.databricks.v1+cell": {
     "cellMetadata": {
      "byteLimit": 2048000,
      "rowLimit": 10000
     },
     "inputWidgets": {},
     "nuid": "3efdf692-759d-40d8-966c-08f88c0115a9",
     "showTitle": false,
     "title": ""
    }
   },
   "outputs": [],
   "source": [
    "spark.conf.set(\"fs.azure.account.key.healthdata.dfs.core.windows.net\",\n",
    "    dbutils.secrets.get(scope=\"healthscope\", key=\"healthdata\"))"
   ]
  },
  {
   "cell_type": "code",
   "execution_count": 0,
   "metadata": {
    "application/vnd.databricks.v1+cell": {
     "cellMetadata": {
      "byteLimit": 2048000,
      "rowLimit": 10000
     },
     "inputWidgets": {},
     "nuid": "8f64cdfc-3717-4ae2-b5e3-93866fd01cbd",
     "showTitle": false,
     "title": ""
    }
   },
   "outputs": [
    {
     "output_type": "execute_result",
     "data": {
      "text/plain": [
       "[FileInfo(path='abfss://rawdata@healthdata.dfs.core.windows.net/Patient_records.csv', name='Patient_records.csv', size=5110, modificationTime=1710596297000),\n",
       " FileInfo(path='abfss://rawdata@healthdata.dfs.core.windows.net/claims.csv', name='claims.csv', size=11438, modificationTime=1710615336000),\n",
       " FileInfo(path='abfss://rawdata@healthdata.dfs.core.windows.net/disease.csv', name='disease.csv', size=1489, modificationTime=1710596297000),\n",
       " FileInfo(path='abfss://rawdata@healthdata.dfs.core.windows.net/group.csv', name='group.csv', size=4390, modificationTime=1710596297000),\n",
       " FileInfo(path='abfss://rawdata@healthdata.dfs.core.windows.net/hospital.csv', name='hospital.csv', size=1328, modificationTime=1710596297000),\n",
       " FileInfo(path='abfss://rawdata@healthdata.dfs.core.windows.net/subgroup.csv', name='subgroup.csv', size=561, modificationTime=1710596297000),\n",
       " FileInfo(path='abfss://rawdata@healthdata.dfs.core.windows.net/subscriber.csv', name='subscriber.csv', size=12061, modificationTime=1710596297000)]"
      ]
     },
     "execution_count": 5,
     "metadata": {},
     "output_type": "execute_result"
    }
   ],
   "source": [
    "dbutils.fs.ls(\"abfss://rawdata@healthdata.dfs.core.windows.net\")"
   ]
  },
  {
   "cell_type": "code",
   "execution_count": 0,
   "metadata": {
    "application/vnd.databricks.v1+cell": {
     "cellMetadata": {
      "byteLimit": 2048000,
      "rowLimit": 10000
     },
     "inputWidgets": {},
     "nuid": "2524d731-bb57-49af-894f-eed7abf08541",
     "showTitle": false,
     "title": ""
    }
   },
   "outputs": [],
   "source": [
    "claims_data = spark.read.csv(\"abfss://rawdata@healthdata.dfs.core.windows.net/claims.csv\",inferSchema=True, header=True)"
   ]
  },
  {
   "cell_type": "code",
   "execution_count": 0,
   "metadata": {
    "application/vnd.databricks.v1+cell": {
     "cellMetadata": {
      "byteLimit": 2048000,
      "rowLimit": 10000
     },
     "inputWidgets": {},
     "nuid": "286aaa1e-5e92-44ba-9386-e4a30d59683a",
     "showTitle": false,
     "title": ""
    },
    "colab": {
     "base_uri": "https://localhost:8080/"
    },
    "id": "zMusCDb_5puv",
    "outputId": "b433005e-a7e1-493c-a76b-5df1624c0724"
   },
   "outputs": [],
   "source": [
    "#claims_data.show(5)"
   ]
  },
  {
   "cell_type": "code",
   "execution_count": 0,
   "metadata": {
    "application/vnd.databricks.v1+cell": {
     "cellMetadata": {
      "byteLimit": 2048000,
      "rowLimit": 10000
     },
     "inputWidgets": {},
     "nuid": "4711bb42-0e2a-40c1-9915-7bb3d7b8b09a",
     "showTitle": false,
     "title": ""
    },
    "id": "d7M2EyGc5plM"
   },
   "outputs": [],
   "source": [
    "# null values, duplicates"
   ]
  },
  {
   "cell_type": "code",
   "execution_count": 0,
   "metadata": {
    "application/vnd.databricks.v1+cell": {
     "cellMetadata": {
      "byteLimit": 2048000,
      "rowLimit": 10000
     },
     "inputWidgets": {},
     "nuid": "6a5f1fdf-6a71-47f7-bac3-f4dcf3f42774",
     "showTitle": false,
     "title": ""
    },
    "colab": {
     "base_uri": "https://localhost:8080/"
    },
    "id": "Ie8MHevY5pXV",
    "outputId": "9f33a690-3cf3-45fe-a8d5-afa1ba6b34a6"
   },
   "outputs": [],
   "source": [
    "#claims_data.select([count(when(isnan(c) | col(c).isNull(),c)).alias(c) for c in claims_data.columns]).show()"
   ]
  },
  {
   "cell_type": "code",
   "execution_count": 0,
   "metadata": {
    "application/vnd.databricks.v1+cell": {
     "cellMetadata": {
      "byteLimit": 2048000,
      "rowLimit": 10000
     },
     "inputWidgets": {},
     "nuid": "a8e58635-91b7-48d6-b2bb-2833a888ea0f",
     "showTitle": false,
     "title": ""
    },
    "colab": {
     "base_uri": "https://localhost:8080/"
    },
    "id": "y4cT6WCiHjLQ",
    "outputId": "a7a37509-13a5-4be6-c772-d4b11feb28de"
   },
   "outputs": [],
   "source": [
    "#claims_data.groupBy([\"Claim_Or_Rejected\",\"SUB_ID\",\"claim_amount\",\"claim_date\",\"claim_id\",\"claim_type\",\"disease_name\",\"patient_id\"]).count().where(\"count > 1\").show()"
   ]
  },
  {
   "cell_type": "code",
   "execution_count": 0,
   "metadata": {
    "application/vnd.databricks.v1+cell": {
     "cellMetadata": {
      "byteLimit": 2048000,
      "rowLimit": 10000
     },
     "inputWidgets": {},
     "nuid": "bab3fff8-bf2d-47b3-9288-966e22bec28a",
     "showTitle": false,
     "title": ""
    },
    "id": "kJuDGCNnQfm8"
   },
   "outputs": [],
   "source": [
    "claims_data = claims_data.replace(\"NaN\", None)"
   ]
  },
  {
   "cell_type": "code",
   "execution_count": 0,
   "metadata": {
    "application/vnd.databricks.v1+cell": {
     "cellMetadata": {
      "byteLimit": 2048000,
      "rowLimit": 10000
     },
     "inputWidgets": {},
     "nuid": "ff0ea637-583e-445f-9e54-4b2c46ee8403",
     "showTitle": false,
     "title": ""
    },
    "id": "JW9JCx51QQGj"
   },
   "outputs": [],
   "source": [
    "claims_data = claims_data.fillna({\"Claim_Or_Rejected\":\"N\"})"
   ]
  },
  {
   "cell_type": "code",
   "execution_count": 0,
   "metadata": {
    "application/vnd.databricks.v1+cell": {
     "cellMetadata": {
      "byteLimit": 2048000,
      "rowLimit": 10000
     },
     "inputWidgets": {},
     "nuid": "9f2cf02e-04b3-4d50-a098-f8b1f8a2b4af",
     "showTitle": false,
     "title": ""
    },
    "id": "s9dXCrPKHq6h"
   },
   "outputs": [],
   "source": [
    "claims_data = claims_data.dropDuplicates()"
   ]
  },
  {
   "cell_type": "code",
   "execution_count": 0,
   "metadata": {
    "application/vnd.databricks.v1+cell": {
     "cellMetadata": {
      "byteLimit": 2048000,
      "rowLimit": 10000
     },
     "inputWidgets": {},
     "nuid": "5ff4025e-2756-45fe-9436-94382483dbcf",
     "showTitle": false,
     "title": ""
    },
    "id": "gW4ldIo8TKWL"
   },
   "outputs": [],
   "source": [
    "#writing clean dataframe into stagging\n",
    "#boilerplate code(standard code for ceratin operation)\n",
    "stagging_path = \"abfss://stagedata@healthdata.dfs.core.windows.net\"\n",
    "claims_data.coalesce(1).write.mode(\"append\").option(\"header\",\"true\").format(\"com.databricks.spark.csv\").save(stagging_path)\n",
    "files = dbutils.fs.ls(stagging_path)\n",
    "output_file = [x for x in files if x.name.startswith(\"part-\")] #to read only part files\n",
    "dbutils.fs.mv(output_file[0].path,\"%s/claimstagging.csv\" % stagging_path)\n",
    "files_to_delete = [file.path for file in files if file.name.startswith(\"_\")]\n",
    "for file_path in files_to_delete:\n",
    "                  dbutils.fs.rm(file_path, True)"
   ]
  }
 ],
 "metadata": {
  "application/vnd.databricks.v1+notebook": {
   "dashboards": [],
   "language": "python",
   "notebookMetadata": {
    "pythonIndentUnit": 4
   },
   "notebookName": "claims_transformation",
   "widgets": {}
  },
  "colab": {
   "provenance": []
  },
  "kernelspec": {
   "display_name": "Python 3",
   "name": "python3"
  },
  "language_info": {
   "name": "python"
  }
 },
 "nbformat": 4,
 "nbformat_minor": 0
}
